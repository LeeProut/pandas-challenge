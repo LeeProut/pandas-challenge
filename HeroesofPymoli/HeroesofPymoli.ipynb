{
 "cells": [
  {
   "cell_type": "markdown",
   "metadata": {},
   "source": [
    "### Note\n",
    "* Instructions have been included for each segment. You do not have to follow them exactly, but they are included to help you think through the steps."
   ]
  },
  {
   "cell_type": "code",
   "execution_count": 333,
   "metadata": {},
   "outputs": [
    {
     "data": {
      "text/html": [
       "<div>\n",
       "<style scoped>\n",
       "    .dataframe tbody tr th:only-of-type {\n",
       "        vertical-align: middle;\n",
       "    }\n",
       "\n",
       "    .dataframe tbody tr th {\n",
       "        vertical-align: top;\n",
       "    }\n",
       "\n",
       "    .dataframe thead th {\n",
       "        text-align: right;\n",
       "    }\n",
       "</style>\n",
       "<table border=\"1\" class=\"dataframe\">\n",
       "  <thead>\n",
       "    <tr style=\"text-align: right;\">\n",
       "      <th></th>\n",
       "      <th>Purchase ID</th>\n",
       "      <th>SN</th>\n",
       "      <th>Age</th>\n",
       "      <th>Gender</th>\n",
       "      <th>Item ID</th>\n",
       "      <th>Item Name</th>\n",
       "      <th>Price</th>\n",
       "    </tr>\n",
       "  </thead>\n",
       "  <tbody>\n",
       "    <tr>\n",
       "      <th>0</th>\n",
       "      <td>0</td>\n",
       "      <td>Lisim78</td>\n",
       "      <td>20</td>\n",
       "      <td>Male</td>\n",
       "      <td>108</td>\n",
       "      <td>Extraction, Quickblade Of Trembling Hands</td>\n",
       "      <td>3.53</td>\n",
       "    </tr>\n",
       "    <tr>\n",
       "      <th>1</th>\n",
       "      <td>1</td>\n",
       "      <td>Lisovynya38</td>\n",
       "      <td>40</td>\n",
       "      <td>Male</td>\n",
       "      <td>143</td>\n",
       "      <td>Frenzied Scimitar</td>\n",
       "      <td>1.56</td>\n",
       "    </tr>\n",
       "    <tr>\n",
       "      <th>2</th>\n",
       "      <td>2</td>\n",
       "      <td>Ithergue48</td>\n",
       "      <td>24</td>\n",
       "      <td>Male</td>\n",
       "      <td>92</td>\n",
       "      <td>Final Critic</td>\n",
       "      <td>4.88</td>\n",
       "    </tr>\n",
       "    <tr>\n",
       "      <th>3</th>\n",
       "      <td>3</td>\n",
       "      <td>Chamassasya86</td>\n",
       "      <td>24</td>\n",
       "      <td>Male</td>\n",
       "      <td>100</td>\n",
       "      <td>Blindscythe</td>\n",
       "      <td>3.27</td>\n",
       "    </tr>\n",
       "    <tr>\n",
       "      <th>4</th>\n",
       "      <td>4</td>\n",
       "      <td>Iskosia90</td>\n",
       "      <td>23</td>\n",
       "      <td>Male</td>\n",
       "      <td>131</td>\n",
       "      <td>Fury</td>\n",
       "      <td>1.44</td>\n",
       "    </tr>\n",
       "  </tbody>\n",
       "</table>\n",
       "</div>"
      ],
      "text/plain": [
       "   Purchase ID             SN  Age Gender  Item ID  \\\n",
       "0            0        Lisim78   20   Male      108   \n",
       "1            1    Lisovynya38   40   Male      143   \n",
       "2            2     Ithergue48   24   Male       92   \n",
       "3            3  Chamassasya86   24   Male      100   \n",
       "4            4      Iskosia90   23   Male      131   \n",
       "\n",
       "                                   Item Name  Price  \n",
       "0  Extraction, Quickblade Of Trembling Hands   3.53  \n",
       "1                          Frenzied Scimitar   1.56  \n",
       "2                               Final Critic   4.88  \n",
       "3                                Blindscythe   3.27  \n",
       "4                                       Fury   1.44  "
      ]
     },
     "execution_count": 333,
     "metadata": {},
     "output_type": "execute_result"
    }
   ],
   "source": [
    "# Dependencies and Setup\n",
    "import pandas as pd\n",
    "\n",
    "# File to Load \n",
    "file_path = \"Resources/purchase_data.csv\"\n",
    "\n",
    "# Read Purchasing File and store into Pandas data frame\n",
    "#tried adding utf-8 encoding after seeing html characters in github encoding=\"utf-8\", but did not fix\n",
    "purchase_df = pd.read_csv(file_path)\n",
    "purchase_df.head()"
   ]
  },
  {
   "cell_type": "code",
   "execution_count": 334,
   "metadata": {},
   "outputs": [
    {
     "data": {
      "text/html": [
       "<div>\n",
       "<style scoped>\n",
       "    .dataframe tbody tr th:only-of-type {\n",
       "        vertical-align: middle;\n",
       "    }\n",
       "\n",
       "    .dataframe tbody tr th {\n",
       "        vertical-align: top;\n",
       "    }\n",
       "\n",
       "    .dataframe thead th {\n",
       "        text-align: right;\n",
       "    }\n",
       "</style>\n",
       "<table border=\"1\" class=\"dataframe\">\n",
       "  <thead>\n",
       "    <tr style=\"text-align: right;\">\n",
       "      <th></th>\n",
       "      <th>Purchase ID</th>\n",
       "      <th>Players</th>\n",
       "      <th>Age</th>\n",
       "      <th>Gender</th>\n",
       "      <th>Item ID</th>\n",
       "      <th>Item Name</th>\n",
       "      <th>Price</th>\n",
       "    </tr>\n",
       "  </thead>\n",
       "  <tbody>\n",
       "    <tr>\n",
       "      <th>0</th>\n",
       "      <td>0</td>\n",
       "      <td>Lisim78</td>\n",
       "      <td>20</td>\n",
       "      <td>Male</td>\n",
       "      <td>108</td>\n",
       "      <td>Extraction, Quickblade Of Trembling Hands</td>\n",
       "      <td>3.53</td>\n",
       "    </tr>\n",
       "    <tr>\n",
       "      <th>1</th>\n",
       "      <td>1</td>\n",
       "      <td>Lisovynya38</td>\n",
       "      <td>40</td>\n",
       "      <td>Male</td>\n",
       "      <td>143</td>\n",
       "      <td>Frenzied Scimitar</td>\n",
       "      <td>1.56</td>\n",
       "    </tr>\n",
       "    <tr>\n",
       "      <th>2</th>\n",
       "      <td>2</td>\n",
       "      <td>Ithergue48</td>\n",
       "      <td>24</td>\n",
       "      <td>Male</td>\n",
       "      <td>92</td>\n",
       "      <td>Final Critic</td>\n",
       "      <td>4.88</td>\n",
       "    </tr>\n",
       "    <tr>\n",
       "      <th>3</th>\n",
       "      <td>3</td>\n",
       "      <td>Chamassasya86</td>\n",
       "      <td>24</td>\n",
       "      <td>Male</td>\n",
       "      <td>100</td>\n",
       "      <td>Blindscythe</td>\n",
       "      <td>3.27</td>\n",
       "    </tr>\n",
       "    <tr>\n",
       "      <th>4</th>\n",
       "      <td>4</td>\n",
       "      <td>Iskosia90</td>\n",
       "      <td>23</td>\n",
       "      <td>Male</td>\n",
       "      <td>131</td>\n",
       "      <td>Fury</td>\n",
       "      <td>1.44</td>\n",
       "    </tr>\n",
       "  </tbody>\n",
       "</table>\n",
       "</div>"
      ],
      "text/plain": [
       "   Purchase ID        Players  Age Gender  Item ID  \\\n",
       "0            0        Lisim78   20   Male      108   \n",
       "1            1    Lisovynya38   40   Male      143   \n",
       "2            2     Ithergue48   24   Male       92   \n",
       "3            3  Chamassasya86   24   Male      100   \n",
       "4            4      Iskosia90   23   Male      131   \n",
       "\n",
       "                                   Item Name  Price  \n",
       "0  Extraction, Quickblade Of Trembling Hands   3.53  \n",
       "1                          Frenzied Scimitar   1.56  \n",
       "2                               Final Critic   4.88  \n",
       "3                                Blindscythe   3.27  \n",
       "4                                       Fury   1.44  "
      ]
     },
     "execution_count": 334,
     "metadata": {},
     "output_type": "execute_result"
    }
   ],
   "source": [
    "#change name of SN column to Players\n",
    "purchase_df = purchase_df.rename(columns={\"SN\" : \"Players\"})\n",
    "purchase_df.head()"
   ]
  },
  {
   "cell_type": "code",
   "execution_count": 335,
   "metadata": {},
   "outputs": [
    {
     "data": {
      "text/plain": [
       "Lisosia93        5\n",
       "Idastidru52      4\n",
       "Iral74           4\n",
       "Chadolyla44      3\n",
       "Hada39           3\n",
       "                ..\n",
       "Undosia27        1\n",
       "Aeralstical35    1\n",
       "Saisrilis27      1\n",
       "Quanenrian83     1\n",
       "Heudai45         1\n",
       "Name: Players, Length: 576, dtype: int64"
      ]
     },
     "execution_count": 335,
     "metadata": {},
     "output_type": "execute_result"
    }
   ],
   "source": [
    "#find total number of players by finding unique values in Players column\n",
    "total_players = purchase_df[\"Players\"].value_counts()\n",
    "total_players"
   ]
  },
  {
   "cell_type": "markdown",
   "metadata": {},
   "source": [
    "## Player Count"
   ]
  },
  {
   "cell_type": "markdown",
   "metadata": {},
   "source": [
    "* Display the total number of players\n"
   ]
  },
  {
   "cell_type": "code",
   "execution_count": 336,
   "metadata": {},
   "outputs": [
    {
     "data": {
      "text/html": [
       "<div>\n",
       "<style scoped>\n",
       "    .dataframe tbody tr th:only-of-type {\n",
       "        vertical-align: middle;\n",
       "    }\n",
       "\n",
       "    .dataframe tbody tr th {\n",
       "        vertical-align: top;\n",
       "    }\n",
       "\n",
       "    .dataframe thead th {\n",
       "        text-align: right;\n",
       "    }\n",
       "</style>\n",
       "<table border=\"1\" class=\"dataframe\">\n",
       "  <thead>\n",
       "    <tr style=\"text-align: right;\">\n",
       "      <th></th>\n",
       "      <th>Total Players</th>\n",
       "    </tr>\n",
       "  </thead>\n",
       "  <tbody>\n",
       "    <tr>\n",
       "      <th>0</th>\n",
       "      <td>576</td>\n",
       "    </tr>\n",
       "  </tbody>\n",
       "</table>\n",
       "</div>"
      ],
      "text/plain": [
       "   Total Players\n",
       "0            576"
      ]
     },
     "execution_count": 336,
     "metadata": {},
     "output_type": "execute_result"
    }
   ],
   "source": [
    "#display Total Players count in summary dataframe\n",
    "total_player_count = [len(total_players)]\n",
    "totalPlayers_df = pd.DataFrame({\"Total Players\": total_player_count})\n",
    "totalPlayers_df\n"
   ]
  },
  {
   "cell_type": "markdown",
   "metadata": {},
   "source": [
    "## Purchasing Analysis (Total)"
   ]
  },
  {
   "cell_type": "markdown",
   "metadata": {},
   "source": [
    "* Run basic calculations to obtain number of unique items, average price, etc.\n",
    "\n",
    "\n",
    "* Create a summary data frame to hold the results\n",
    "\n",
    "\n",
    "* Optional: give the displayed data cleaner formatting\n",
    "\n",
    "\n",
    "* Display the summary data frame\n"
   ]
  },
  {
   "cell_type": "code",
   "execution_count": 337,
   "metadata": {
    "scrolled": true
   },
   "outputs": [
    {
     "data": {
      "text/html": [
       "<style  type=\"text/css\" >\n",
       "</style><table id=\"T_9a5afe34_003d_11eb_99ff_acde48001122\" ><thead>    <tr>        <th class=\"blank level0\" ></th>        <th class=\"col_heading level0 col0\" >Number of Unique Items</th>        <th class=\"col_heading level0 col1\" >Average Price</th>        <th class=\"col_heading level0 col2\" >Number of Purchases</th>        <th class=\"col_heading level0 col3\" >Total Revenue</th>    </tr></thead><tbody>\n",
       "                <tr>\n",
       "                        <th id=\"T_9a5afe34_003d_11eb_99ff_acde48001122level0_row0\" class=\"row_heading level0 row0\" >0</th>\n",
       "                        <td id=\"T_9a5afe34_003d_11eb_99ff_acde48001122row0_col0\" class=\"data row0 col0\" >179</td>\n",
       "                        <td id=\"T_9a5afe34_003d_11eb_99ff_acde48001122row0_col1\" class=\"data row0 col1\" >$3.05</td>\n",
       "                        <td id=\"T_9a5afe34_003d_11eb_99ff_acde48001122row0_col2\" class=\"data row0 col2\" >780</td>\n",
       "                        <td id=\"T_9a5afe34_003d_11eb_99ff_acde48001122row0_col3\" class=\"data row0 col3\" >$2,379.77</td>\n",
       "            </tr>\n",
       "    </tbody></table>"
      ],
      "text/plain": [
       "<pandas.io.formats.style.Styler at 0x7fc7d9d9ae10>"
      ]
     },
     "execution_count": 337,
     "metadata": {},
     "output_type": "execute_result"
    }
   ],
   "source": [
    "#calculate number of unique items\n",
    "item_count = len(purchase_df[\"Item ID\"].unique())\n",
    "\n",
    "#calculate average price\n",
    "average_price = purchase_df[\"Price\"].mean()\n",
    "\n",
    "#calculate number of purchases\n",
    "total_purchases = len(purchase_df[\"Purchase ID\"])\n",
    "\n",
    "#calculate Total Revenue\n",
    "total_revenue = sum(purchase_df[\"Price\"])\n",
    "\n",
    "#summary DataFrame with pd.DataFrame\n",
    "purchase_summary_df = pd.DataFrame({\"Number of Unique Items\": [item_count],\n",
    "                                    \"Average Price\": [average_price], \n",
    "                                    \"Number of Purchases\": [total_purchases],\n",
    "                                    \"Total Revenue\": [total_revenue]})\n",
    "purchase_summary_df\n",
    "\n",
    "#format summary DataFrame\n",
    "purchase_summary_df.style.format({\"Average Price\": \"${:,.2f}\", \n",
    "                                  \"Total Revenue\": \"${:,.2f}\"\n",
    "                                 })\n",
    "\n",
    "#Rebekah's suggestion: apply formatting to summary dataframe with .style.format\n",
    "\n",
    "#copy dataframe for applying formatting\n",
    "#formatted_summary = purchase_summary.copy(purchase)\n",
    "\n"
   ]
  },
  {
   "cell_type": "markdown",
   "metadata": {},
   "source": [
    "## Gender Demographics"
   ]
  },
  {
   "cell_type": "markdown",
   "metadata": {},
   "source": [
    "* Percentage and Count of Male Players\n",
    "\n",
    "\n",
    "* Percentage and Count of Female Players\n",
    "\n",
    "\n",
    "* Percentage and Count of Other / Non-Disclosed\n",
    "\n",
    "\n"
   ]
  },
  {
   "cell_type": "code",
   "execution_count": 338,
   "metadata": {},
   "outputs": [
    {
     "data": {
      "text/html": [
       "<style  type=\"text/css\" >\n",
       "</style><table id=\"T_9a5f9280_003d_11eb_96d2_acde48001122\" ><thead>    <tr>        <th class=\"blank level0\" ></th>        <th class=\"col_heading level0 col0\" >Total</th>        <th class=\"col_heading level0 col1\" >Percentage of Players</th>    </tr>    <tr>        <th class=\"index_name level0\" >Gender</th>        <th class=\"blank\" ></th>        <th class=\"blank\" ></th>    </tr></thead><tbody>\n",
       "                <tr>\n",
       "                        <th id=\"T_9a5f9280_003d_11eb_96d2_acde48001122level0_row0\" class=\"row_heading level0 row0\" >Female</th>\n",
       "                        <td id=\"T_9a5f9280_003d_11eb_96d2_acde48001122row0_col0\" class=\"data row0 col0\" >81</td>\n",
       "                        <td id=\"T_9a5f9280_003d_11eb_96d2_acde48001122row0_col1\" class=\"data row0 col1\" >14.06%</td>\n",
       "            </tr>\n",
       "            <tr>\n",
       "                        <th id=\"T_9a5f9280_003d_11eb_96d2_acde48001122level0_row1\" class=\"row_heading level0 row1\" >Male</th>\n",
       "                        <td id=\"T_9a5f9280_003d_11eb_96d2_acde48001122row1_col0\" class=\"data row1 col0\" >484</td>\n",
       "                        <td id=\"T_9a5f9280_003d_11eb_96d2_acde48001122row1_col1\" class=\"data row1 col1\" >84.03%</td>\n",
       "            </tr>\n",
       "            <tr>\n",
       "                        <th id=\"T_9a5f9280_003d_11eb_96d2_acde48001122level0_row2\" class=\"row_heading level0 row2\" >Other / Non-Disclosed</th>\n",
       "                        <td id=\"T_9a5f9280_003d_11eb_96d2_acde48001122row2_col0\" class=\"data row2 col0\" >11</td>\n",
       "                        <td id=\"T_9a5f9280_003d_11eb_96d2_acde48001122row2_col1\" class=\"data row2 col1\" >1.91%</td>\n",
       "            </tr>\n",
       "    </tbody></table>"
      ],
      "text/plain": [
       "<pandas.io.formats.style.Styler at 0x7fc7d9caae80>"
      ]
     },
     "execution_count": 338,
     "metadata": {},
     "output_type": "execute_result"
    }
   ],
   "source": [
    "#drop duplicate players\n",
    "noDup_df = purchase_df.loc[: , [\"Gender\", \"Players\", \"Age\"]].drop_duplicates()\n",
    "noDup_df\n",
    "\n",
    "#count unique male/female/other players\n",
    "gender_df = noDup_df.groupby(\"Gender\").count()[\"Players\"]\n",
    "gender_df\n",
    "\n",
    "#percentage: we used another option to count values of players\n",
    "#percentage_df = noDup_df[\"Gender\"].value_counts()\n",
    "#percentage_df\n",
    "\n",
    "#finding gender totals using the no duplicates count of players\n",
    "gender_totals = noDup_df[\"Gender\"].count()\n",
    "gender_totals\n",
    "\n",
    "#calculating the gender percentages\n",
    "Demo_per = (gender_df / gender_totals) * 100\n",
    "Demo_per\n",
    "\n",
    "#summary dataframe\n",
    "genderStats_df = pd.DataFrame({\"Total\": gender_df, \"Percentage of Players\": Demo_per})\n",
    "genderStats_df\n",
    "\n",
    "#formatting summary DataFrame\n",
    "genderStats_df.style.format({\"Percentage of Players\" : \"{:,.2f}%\"})"
   ]
  },
  {
   "cell_type": "markdown",
   "metadata": {},
   "source": [
    "\n",
    "## Purchasing Analysis (Gender)"
   ]
  },
  {
   "cell_type": "markdown",
   "metadata": {},
   "source": [
    "* Run basic calculations to obtain purchase count, avg. purchase price, avg. purchase total per person etc. by gender\n",
    "\n",
    "\n",
    "\n",
    "\n",
    "* Create a summary data frame to hold the results\n",
    "\n",
    "\n",
    "* Optional: give the displayed data cleaner formatting\n",
    "\n",
    "\n",
    "* Display the summary data frame"
   ]
  },
  {
   "cell_type": "code",
   "execution_count": 339,
   "metadata": {},
   "outputs": [
    {
     "data": {
      "text/html": [
       "<style  type=\"text/css\" >\n",
       "</style><table id=\"T_9a654c66_003d_11eb_9f78_acde48001122\" ><thead>    <tr>        <th class=\"blank level0\" ></th>        <th class=\"col_heading level0 col0\" >Purchase Count</th>        <th class=\"col_heading level0 col1\" >Average Purchase Price</th>        <th class=\"col_heading level0 col2\" >Total Purchase Value</th>        <th class=\"col_heading level0 col3\" >Avg Total Purchase per Person</th>    </tr>    <tr>        <th class=\"index_name level0\" >Gender</th>        <th class=\"blank\" ></th>        <th class=\"blank\" ></th>        <th class=\"blank\" ></th>        <th class=\"blank\" ></th>    </tr></thead><tbody>\n",
       "                <tr>\n",
       "                        <th id=\"T_9a654c66_003d_11eb_9f78_acde48001122level0_row0\" class=\"row_heading level0 row0\" >Female</th>\n",
       "                        <td id=\"T_9a654c66_003d_11eb_9f78_acde48001122row0_col0\" class=\"data row0 col0\" >113</td>\n",
       "                        <td id=\"T_9a654c66_003d_11eb_9f78_acde48001122row0_col1\" class=\"data row0 col1\" >$3.20</td>\n",
       "                        <td id=\"T_9a654c66_003d_11eb_9f78_acde48001122row0_col2\" class=\"data row0 col2\" >$361.94</td>\n",
       "                        <td id=\"T_9a654c66_003d_11eb_9f78_acde48001122row0_col3\" class=\"data row0 col3\" >$4.47</td>\n",
       "            </tr>\n",
       "            <tr>\n",
       "                        <th id=\"T_9a654c66_003d_11eb_9f78_acde48001122level0_row1\" class=\"row_heading level0 row1\" >Male</th>\n",
       "                        <td id=\"T_9a654c66_003d_11eb_9f78_acde48001122row1_col0\" class=\"data row1 col0\" >652</td>\n",
       "                        <td id=\"T_9a654c66_003d_11eb_9f78_acde48001122row1_col1\" class=\"data row1 col1\" >$3.02</td>\n",
       "                        <td id=\"T_9a654c66_003d_11eb_9f78_acde48001122row1_col2\" class=\"data row1 col2\" >$1,967.64</td>\n",
       "                        <td id=\"T_9a654c66_003d_11eb_9f78_acde48001122row1_col3\" class=\"data row1 col3\" >$4.07</td>\n",
       "            </tr>\n",
       "            <tr>\n",
       "                        <th id=\"T_9a654c66_003d_11eb_9f78_acde48001122level0_row2\" class=\"row_heading level0 row2\" >Other / Non-Disclosed</th>\n",
       "                        <td id=\"T_9a654c66_003d_11eb_9f78_acde48001122row2_col0\" class=\"data row2 col0\" >15</td>\n",
       "                        <td id=\"T_9a654c66_003d_11eb_9f78_acde48001122row2_col1\" class=\"data row2 col1\" >$3.35</td>\n",
       "                        <td id=\"T_9a654c66_003d_11eb_9f78_acde48001122row2_col2\" class=\"data row2 col2\" >$50.19</td>\n",
       "                        <td id=\"T_9a654c66_003d_11eb_9f78_acde48001122row2_col3\" class=\"data row2 col3\" >$4.56</td>\n",
       "            </tr>\n",
       "    </tbody></table>"
      ],
      "text/plain": [
       "<pandas.io.formats.style.Styler at 0x7fc7d9e86080>"
      ]
     },
     "execution_count": 339,
     "metadata": {},
     "output_type": "execute_result"
    }
   ],
   "source": [
    "#purchase count by gender, calling orig df that includes duplicates\n",
    "purchbygender = purchase_df.groupby(\"Gender\").count()[\"Players\"]\n",
    "purchbygender\n",
    "\n",
    "#total spending by gender\n",
    "spendingbygender = purchase_df.groupby(\"Gender\").sum()[\"Price\"]\n",
    "spendingbygender\n",
    "\n",
    "#average purchase price by gender\n",
    "avg_purch_price = purchase_df.groupby(\"Gender\").mean()[\"Price\"]\n",
    "avg_purch_price\n",
    "\n",
    "#calculating average total purchase per person, using gender_df(count of unique players by gender)\n",
    "total_purch_pp = spendingbygender / gender_df\n",
    "total_purch_pp\n",
    "\n",
    "#summary dataframe\n",
    "gender_purch_df = pd.DataFrame({\"Purchase Count\": purchbygender, \n",
    "                                \"Average Purchase Price\": avg_purch_price, \n",
    "                                \"Total Purchase Value\": spendingbygender,\n",
    "                                \"Avg Total Purchase per Person\": total_purch_pp})\n",
    "gender_purch_df\n",
    "\n",
    "#formatting summary DataFrame\n",
    "gender_purch_df.style.format({\"Average Purchase Price\" : \"${:,.2f}\", \n",
    "                              \"Total Purchase Value\": \"${:,.2f}\", \n",
    "                              \"Avg Total Purchase per Person\": \"${:,.2f}\" \n",
    "                             })"
   ]
  },
  {
   "cell_type": "markdown",
   "metadata": {},
   "source": [
    "#### Age Demographics"
   ]
  },
  {
   "cell_type": "markdown",
   "metadata": {},
   "source": [
    "* Establish bins for ages\n",
    "\n",
    "\n",
    "* Categorize the existing players using the age bins. Hint: use pd.cut()\n",
    "\n",
    "\n",
    "* Calculate the numbers and percentages by age group\n",
    "\n",
    "\n",
    "* Create a summary data frame to hold the results\n",
    "\n",
    "\n",
    "* Optional: round the percentage column to two decimal points\n",
    "\n",
    "\n",
    "* Display Age Demographics Table\n"
   ]
  },
  {
   "cell_type": "code",
   "execution_count": 340,
   "metadata": {},
   "outputs": [
    {
     "data": {
      "text/html": [
       "<div>\n",
       "<style scoped>\n",
       "    .dataframe tbody tr th:only-of-type {\n",
       "        vertical-align: middle;\n",
       "    }\n",
       "\n",
       "    .dataframe tbody tr th {\n",
       "        vertical-align: top;\n",
       "    }\n",
       "\n",
       "    .dataframe thead th {\n",
       "        text-align: right;\n",
       "    }\n",
       "</style>\n",
       "<table border=\"1\" class=\"dataframe\">\n",
       "  <thead>\n",
       "    <tr style=\"text-align: right;\">\n",
       "      <th></th>\n",
       "      <th>Players</th>\n",
       "      <th>Percentage of Players</th>\n",
       "    </tr>\n",
       "    <tr>\n",
       "      <th>Ages</th>\n",
       "      <th></th>\n",
       "      <th></th>\n",
       "    </tr>\n",
       "  </thead>\n",
       "  <tbody>\n",
       "    <tr>\n",
       "      <th>&lt;10</th>\n",
       "      <td>17</td>\n",
       "      <td>2.951389</td>\n",
       "    </tr>\n",
       "    <tr>\n",
       "      <th>10-14</th>\n",
       "      <td>22</td>\n",
       "      <td>3.819444</td>\n",
       "    </tr>\n",
       "    <tr>\n",
       "      <th>15-19</th>\n",
       "      <td>107</td>\n",
       "      <td>18.576389</td>\n",
       "    </tr>\n",
       "    <tr>\n",
       "      <th>20-24</th>\n",
       "      <td>258</td>\n",
       "      <td>44.791667</td>\n",
       "    </tr>\n",
       "    <tr>\n",
       "      <th>25-29</th>\n",
       "      <td>77</td>\n",
       "      <td>13.368056</td>\n",
       "    </tr>\n",
       "    <tr>\n",
       "      <th>30-34</th>\n",
       "      <td>52</td>\n",
       "      <td>9.027778</td>\n",
       "    </tr>\n",
       "    <tr>\n",
       "      <th>35-39</th>\n",
       "      <td>31</td>\n",
       "      <td>5.381944</td>\n",
       "    </tr>\n",
       "    <tr>\n",
       "      <th>40+</th>\n",
       "      <td>12</td>\n",
       "      <td>2.083333</td>\n",
       "    </tr>\n",
       "  </tbody>\n",
       "</table>\n",
       "</div>"
      ],
      "text/plain": [
       "       Players  Percentage of Players\n",
       "Ages                                 \n",
       "<10         17               2.951389\n",
       "10-14       22               3.819444\n",
       "15-19      107              18.576389\n",
       "20-24      258              44.791667\n",
       "25-29       77              13.368056\n",
       "30-34       52               9.027778\n",
       "35-39       31               5.381944\n",
       "40+         12               2.083333"
      ]
     },
     "execution_count": 340,
     "metadata": {},
     "output_type": "execute_result"
    }
   ],
   "source": [
    "#Created a dataframe that doesn't use duplicates earlier\n",
    "#noDup_df = purchase_df.loc[: , [\"Gender\", \"Players\", \"Age\"]].drop_duplicates()\n",
    "#noDup_df\n",
    "\n",
    "#Create a dataframe that doesn't use duplicates, but includes Playes and Age\n",
    "age_demo_df = purchase_df.loc[: , [\"Players\", \"Age\"]].drop_duplicates()\n",
    "age_demo_df\n",
    "\n",
    "#figure out the min and max age\n",
    "#max = noDup_df[\"Age\"].max()\n",
    "#min = noDup_df[\"Age\"].min()\n",
    "#print(max,min)\n",
    "\n",
    "#set bin ranges\n",
    "bins = [0, 9, 14, 19, 24, 29, 34, 39, 46]\n",
    "\n",
    "#create labels for bins\n",
    "group_names = [\"<10\", \"10-14\", \"15-19\", \"20-24\", \"25-29\", \"30-34\", \"35-39\", \"40+\"]\n",
    "\n",
    "#slice the data and place it into bins\n",
    "pd.cut(age_demo_df[\"Age\"], bins, labels=group_names).head()\n",
    "\n",
    "#Place the data series into a new column inside the dataframe\n",
    "age_demo_df[\"Ages\"] = pd.cut(age_demo_df[\"Age\"], bins, labels=group_names)\n",
    "age_demo_df.head()\n",
    "\n",
    "#Create a groupby object based on \"Ages\"\n",
    "age_groups = age_demo_df.groupby(\"Ages\")\n",
    "age_groups\n",
    "\n",
    "#Find out how many rows fall into each bin\n",
    "total_count = age_groups[\"Players\"].count()\n",
    "total_count = pd.DataFrame(total_count)\n",
    "total_count\n",
    "\n",
    "#get the average of players \n",
    "total_count[\"Percentage of Players\"] = (total_count[\"Players\"] / total_player_count) * 100\n",
    "total_count\n",
    "\n",
    "#get the average of players (changing the variable name)\n",
    "#total_count_percentage = (total_count[\"Players\"] / total_player_count) * 100\n",
    "#total_count_percentage\n",
    "\n",
    "#format summary dataframe\n",
    "#total_count = pd.DataFrame({\"Total Count\" : total_count,\n",
    "                           #\"Percentage of Players\"  : total_count_percentage})"
   ]
  },
  {
   "cell_type": "markdown",
   "metadata": {},
   "source": [
    "## Purchasing Analysis (Age)"
   ]
  },
  {
   "cell_type": "markdown",
   "metadata": {},
   "source": [
    "* Bin the purchase_data data frame by age\n",
    "\n",
    "\n",
    "* Run basic calculations to obtain purchase count, avg. purchase price, avg. purchase total per person etc. in the table below\n",
    "\n",
    "\n",
    "* Create a summary data frame to hold the results\n",
    "\n",
    "\n",
    "* Optional: give the displayed data cleaner formatting\n",
    "\n",
    "\n",
    "* Display the summary data frame"
   ]
  },
  {
   "cell_type": "code",
   "execution_count": 360,
   "metadata": {},
   "outputs": [
    {
     "ename": "IndentationError",
     "evalue": "unexpected indent (<ipython-input-360-236bbad5f456>, line 75)",
     "output_type": "error",
     "traceback": [
      "\u001b[0;36m  File \u001b[0;32m\"<ipython-input-360-236bbad5f456>\"\u001b[0;36m, line \u001b[0;32m75\u001b[0m\n\u001b[0;31m    \"Average Purchase Price\" : age_average_purchase,\u001b[0m\n\u001b[0m    ^\u001b[0m\n\u001b[0;31mIndentationError\u001b[0m\u001b[0;31m:\u001b[0m unexpected indent\n"
     ]
    }
   ],
   "source": [
    "#Create a dataframe that doesn't use duplicates, but includes Playes and Age\n",
    "age_demo_purchases_df = purchase_df.loc[: , [\"Players\", \"Age\", \"Purchase ID\", \"Item ID\", \"Item Name\", \"Price\"]].drop_duplicates()\n",
    "age_demo_purchases_df\n",
    "\n",
    "\n",
    "#set bin ranges\n",
    "bins = [0, 9, 14, 19, 24, 29, 34, 39, 46]\n",
    "\n",
    "#create labels for bins\n",
    "group_names = [\"<10\", \"10-14\", \"15-19\", \"20-24\", \"25-29\", \"30-34\", \"35-39\", \"40+\"]\n",
    "\n",
    "#slice the data and place it into bins\n",
    "pd.cut(age_demo_purchases_df[\"Age\"], bins, labels=group_names).head()\n",
    "\n",
    "#Place the data series into a new column inside the dataframe\n",
    "age_demo_purchases_df[\"Ages\"] = pd.cut(age_demo_purchases_df[\"Age\"], bins, labels=group_names)\n",
    "age_demo_purchases_df.head()\n",
    "\n",
    "#group by Ages and count total purchases\n",
    "age_groups_purchases = age_demo_purchases_df.groupby(\"Ages\").count()[\"Purchase ID\"]\n",
    "age_groups_purchases\n",
    "\n",
    "#find purchase count\n",
    "#age_purchase_count = age_demo_purchases_df[\"Purchase ID\"].count()\n",
    "#age_purchase_count\n",
    "\n",
    "#find total purchase value\n",
    "age_purchase_value = age_demo_purchases_df.groupby(\"Ages\").sum()[\"Price\"]\n",
    "age_purchase_value\n",
    "\n",
    "#find average purchase price, using count of unique players \n",
    "age_average_purchase = age_purchase_value / age_groups_purchases \n",
    "age_average_purchase\n",
    "\n",
    "#age_average_purchase = age_demo_purchases_df.groupby(\"Ages\")[\"Price\"].mean\n",
    "#age_average_purchase\n",
    "\n",
    "#count unique number of players by age\n",
    "age_count_players = age_demo_purchases_df.groupby(\"Ages\").count()[\"Purchase ID\"]\n",
    "age_count_players \n",
    "\n",
    "#find average total purchase per person, using count of unique players\n",
    "#age_total_purch_pp = age_purchase_value / age_demo_df\n",
    "#age_total_purch_pp = (total_revenue / total_player_count) * 100\n",
    "#age_total_purch_pp = age_purchase_value / total_player_count\n",
    "#find average total purchase per person, using count of purchases\n",
    "#age_total_purch_pp = age_purchase_value / age_groups_purchases\n",
    "#age_total_purch_pp\n",
    "\n",
    "#get the average of players \n",
    "#total_count[\"Percentage of Players\"] = (total_count[\"Players\"] / total_player_count) * 100\n",
    "#total_count\n",
    "\n",
    "#find average total purchase per person, using count of unique players \n",
    "age_total_purch_pp = age_demo_purchases_df.groupby(\"Players\").sum()[\"Price\"]\n",
    "avg_total_pp[\"Avg Total Purchase per Person\"] = age_total_purch_pp / age_count_players\n",
    "\n",
    "#avg_total_pp = age_total_purch_pp.groupby(\"Ages\").mean()\n",
    "\n",
    "\n",
    "\n",
    "\n",
    "#total_count[\"Percentage of Players\"] = (total_count[\"Players\"] / total_player_count) * 100\n",
    "#total_count\n",
    "#find average total purchase per person, using count of unique players \n",
    "#age_total_purch_pp[\"Avg Total Purchase per Person\"] = (total_revenue / total_player_count) * 100\n",
    "#age_total_purch_pp = age_demo_purchases_df.groupby(\"Ages\").mean()(total_revenue / total_player_count) * 100\n",
    "#age_total_purch_pp\n",
    "\n",
    "#age_total_purch_pp = age_purchase_value / age_demo_df\n",
    "\n",
    "#summary dataframe\n",
    "\n",
    "\n",
    "#age_purchase_analysis_df = pd.DataFrame({\"Purchase Count\" : age_groups_purchases, \n",
    "                                         \"Average Purchase Price\" : age_average_purchase, \n",
    "                                         \"Total Purchase Value\" : age_purchase_value,\n",
    "                                         \"Avg Total Purchase per Person\" : avg_total_pp})\n",
    "#age_purchase_analysis_df\n",
    "\n",
    "#age_total_purch_pp\n",
    "\n",
    "#age_demo_purchases_df\n",
    "\n",
    "#avg_total_pp"
   ]
  },
  {
   "cell_type": "markdown",
   "metadata": {},
   "source": [
    "## Top Spenders"
   ]
  },
  {
   "cell_type": "markdown",
   "metadata": {},
   "source": [
    "* Run basic calculations to obtain the results in the table below\n",
    "\n",
    "\n",
    "* Create a summary data frame to hold the results\n",
    "\n",
    "\n",
    "* Sort the total purchase value column in descending order\n",
    "\n",
    "\n",
    "* Optional: give the displayed data cleaner formatting\n",
    "\n",
    "\n",
    "* Display a preview of the summary data frame\n",
    "\n"
   ]
  },
  {
   "cell_type": "code",
   "execution_count": null,
   "metadata": {},
   "outputs": [],
   "source": [
    "#set_index(\"Players\")?\n",
    "#.loc?"
   ]
  },
  {
   "cell_type": "markdown",
   "metadata": {},
   "source": [
    "## Most Popular Items"
   ]
  },
  {
   "cell_type": "markdown",
   "metadata": {},
   "source": [
    "* Retrieve the Item ID, Item Name, and Item Price columns\n",
    "\n",
    "\n",
    "* Group by Item ID and Item Name. Perform calculations to obtain purchase count, average item price, and total purchase value\n",
    "\n",
    "\n",
    "* Create a summary data frame to hold the results\n",
    "\n",
    "\n",
    "* Sort the purchase count column in descending order\n",
    "\n",
    "\n",
    "* Optional: give the displayed data cleaner formatting\n",
    "\n",
    "\n",
    "* Display a preview of the summary data frame\n",
    "\n"
   ]
  },
  {
   "cell_type": "code",
   "execution_count": null,
   "metadata": {},
   "outputs": [],
   "source": []
  },
  {
   "cell_type": "markdown",
   "metadata": {},
   "source": [
    "## Most Profitable Items"
   ]
  },
  {
   "cell_type": "markdown",
   "metadata": {},
   "source": [
    "* Sort the above table by total purchase value in descending order\n",
    "\n",
    "\n",
    "* Optional: give the displayed data cleaner formatting\n",
    "\n",
    "\n",
    "* Display a preview of the data frame\n",
    "\n"
   ]
  },
  {
   "cell_type": "code",
   "execution_count": null,
   "metadata": {
    "scrolled": true
   },
   "outputs": [],
   "source": [
    "#export file as a CSV\n",
    "#dataframe_name.to_csv(\"csv_name.csv\", index=False, header=True)"
   ]
  }
 ],
 "metadata": {
  "anaconda-cloud": {},
  "kernel_info": {
   "name": "python3"
  },
  "kernelspec": {
   "display_name": "Python [conda env:PythonData] *",
   "language": "python",
   "name": "conda-env-PythonData-py"
  },
  "language_info": {
   "codemirror_mode": {
    "name": "ipython",
    "version": 3
   },
   "file_extension": ".py",
   "mimetype": "text/x-python",
   "name": "python",
   "nbconvert_exporter": "python",
   "pygments_lexer": "ipython3",
   "version": "3.6.10"
  },
  "latex_envs": {
   "LaTeX_envs_menu_present": true,
   "autoclose": false,
   "autocomplete": true,
   "bibliofile": "biblio.bib",
   "cite_by": "apalike",
   "current_citInitial": 1,
   "eqLabelWithNumbers": true,
   "eqNumInitial": 1,
   "hotkeys": {
    "equation": "Ctrl-E",
    "itemize": "Ctrl-I"
   },
   "labels_anchors": false,
   "latex_user_defs": false,
   "report_style_numbering": false,
   "user_envs_cfg": false
  },
  "nteract": {
   "version": "0.2.0"
  }
 },
 "nbformat": 4,
 "nbformat_minor": 2
}
